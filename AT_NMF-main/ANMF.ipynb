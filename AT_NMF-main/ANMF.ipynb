{
 "cells": [
  {
   "cell_type": "code",
   "execution_count": 4,
   "metadata": {
    "ExecuteTime": {
     "end_time": "2024-11-26T08:56:20.190849Z",
     "start_time": "2024-11-26T08:55:50.678289Z"
    }
   },
   "outputs": [
    {
     "name": "stdout",
     "output_type": "stream",
     "text": [
      "num GPUs 1\n"
     ]
    }
   ],
   "source": [
    "from os.path import dirname, abspath\n",
    "from os.path import join\n",
    "import PIL\n",
    "from PIL.Image import open, new, fromarray\n",
    "from PIL.ImageOps import expand\n",
    "from matplotlib.pyplot import savefig, imshow, set_cmap\n",
    "import matplotlib.pyplot as plt\n",
    "import numpy as np\n",
    "\n",
    "from numpy import linalg as LA\n",
    "from tqdm.notebook import tqdm  \n",
    "\n",
    "import torchvision\n",
    "import sys\n",
    "\n",
    "import torch\n",
    "from torch.autograd import Variable\n",
    "import os\n",
    "\n",
    "from include import helper\n",
    "\n",
    "GPU = True\n",
    "if GPU == True:\n",
    "    torch.backends.cudnn.enabled = True\n",
    "    torch.backends.cudnn.benchmark = True\n",
    "    os.environ['CUDA_VISIBLE_DEVICES'] = '0'\n",
    "    print(\"num GPUs\", torch.cuda.device_count())\n",
    "    dtype = torch.cuda.FloatTensor\n",
    "else:\n",
    "    dtype = torch.FloatTensor\n",
    "\n",
    "torch.set_printoptions(precision=4)"
   ]
  },
  {
   "cell_type": "code",
   "execution_count": 5,
   "metadata": {
    "ExecuteTime": {
     "end_time": "2024-11-26T08:56:34.689378Z",
     "start_time": "2024-11-26T08:56:34.681710Z"
    }
   },
   "outputs": [
    {
     "data": {
      "text/plain": [
       "np.float64(2.220446049250313e-16)"
      ]
     },
     "execution_count": 5,
     "metadata": {},
     "output_type": "execute_result"
    }
   ],
   "source": [
    "eps = np.spacing(1)\n",
    "eps"
   ]
  },
  {
   "cell_type": "code",
   "execution_count": 6,
   "metadata": {
    "ExecuteTime": {
     "end_time": "2024-11-26T08:56:37.578002Z",
     "start_time": "2024-11-26T08:56:37.573721Z"
    }
   },
   "outputs": [],
   "source": [
    "def np_to_tensor(img_np):\n",
    "    '''Converts image in numpy.array to torch.Tensor.\n",
    "\n",
    "    From C x W x H [0..1] to  C x W x H [0..1]\n",
    "    '''\n",
    "    return torch.from_numpy(img_np)\n",
    "\n",
    "def np_to_var(img_np, dtype = torch.cuda.FloatTensor):\n",
    "    '''Converts image in numpy.array to torch.Variable.\n",
    "    \n",
    "    From C x W x H [0..1] to  1 x C x W x H [0..1]\n",
    "    '''\n",
    "    return Variable(np_to_tensor(img_np)[None, :])\n",
    "\n",
    "def var_to_np(img_var):\n",
    "    '''Converts an image in torch.Variable format to np.array.\n",
    "\n",
    "    From 1 x C x W x H [0..1] to  C x W x H [0..1]\n",
    "    '''\n",
    "    return img_var.data.cpu().numpy()[0]"
   ]
  },
  {
   "cell_type": "code",
   "execution_count": 8,
   "metadata": {
    "ExecuteTime": {
     "end_time": "2024-11-26T08:56:44.137623Z",
     "start_time": "2024-11-26T08:56:44.131840Z"
    }
   },
   "outputs": [],
   "source": [
    "def betadiv(A,B,beta):\n",
    "    \"\"\"\n",
    "    beta-divergence\n",
    "    \n",
    "        d = betadiv(A,B,beta)\n",
    "    -a \\= 0,1\n",
    "     d(x|y) = ( x^a + (a-1)*y^a - a*x*y^(a-1) / (a*(a-1)) \n",
    "    -a = 1\n",
    "     d(x|y) = x(log(x) - log(y)) + (y-x) KULLBACK-LEIBLER\n",
    "    -a = 0\n",
    "     d(x|y) = x/y - log(x/y) - 1         ITAKURA-SAITO\n",
    "    \"\"\"\n",
    "    if beta == 2:\n",
    "        d = torch.sum((A-B)**2)\n",
    "    elif beta == 1:\n",
    "        eps = np.spacing(1)\n",
    "        d = torch.sum( A[A>eps] * torch.log(A[A>eps]/(B[A>eps] + eps)) - A[A>eps] + B[A>eps] ) + torch.sum(B[A<=eps])\n",
    "    elif beta == 0:\n",
    "        d = torch.sum( A/B - torch.log(A/B) ) - A.size\n",
    "    else:\n",
    "        d = torch.sum( A**beta + (beta-1)*B**beta - beta*(A * B**(beta-1)) ) / (beta*(beta-1))\n",
    "    \n",
    "    return d"
   ]
  },
  {
   "cell_type": "code",
   "execution_count": 9,
   "metadata": {
    "ExecuteTime": {
     "end_time": "2024-11-26T08:56:54.247385Z",
     "start_time": "2024-11-26T08:56:54.236290Z"
    }
   },
   "outputs": [],
   "source": [
    "def A_NMF(V,D,W,H,beta,l_r):\n",
    "    \"\"\"\n",
    "    Perform AT-NMF\n",
    "    \n",
    "    Return the loss, RMSE on the test entries, basis and activation matrices, and adversary R. \n",
    "    \n",
    "    :param V: The original data matrix. \n",
    "    :param D: The binary mask\n",
    "    :param l_r: lambda\n",
    "    :param beta: use beta = 2\n",
    "    \"\"\"\n",
    "\n",
    "    \n",
    "    maxout = 100\n",
    "    maxin = 1000\n",
    "    cost1 = np.zeros(maxout+1) # betadiv(V, WH)\n",
    "    \n",
    "    tol = 1e-2\n",
    "    \n",
    "    # Initialize W and H to get meaningful R\n",
    "    \n",
    "    for k in range(5):\n",
    "\n",
    "        W = W * ((D*V)@H.T) / (W@(H@H.T) + eps)\n",
    "        H = H * (W.T@(D*V)) / ((W.T@W)@H + eps)\n",
    "    \n",
    "    cost1[0] =  betadiv(D*V, D*(W@H), beta)\n",
    "    print('Current iteration 0 and cost is %.3f\\n' %(cost1[0]))\n",
    "    \n",
    "      \n",
    "    # Start Adversarial Training\n",
    "    iterator = tqdm(range(maxout))\n",
    "    for k in iterator:\n",
    "        \n",
    "        # Update R\n",
    "        R = torch.max( (D*V - D*(W@H))/(l_r-1), -D*V )\n",
    "        new_V = D*(V+R)\n",
    "        \n",
    "        cost_in = np.zeros(maxin)\n",
    "        cost_in[0] = betadiv(new_V, D*(W@H),beta)\n",
    "\n",
    "        V_pre = W@H\n",
    "        \n",
    "        for i in range(1,maxin):\n",
    "            V_ap_old = W@H\n",
    "            \n",
    "            W = W * (new_V@H.T) / (W@(H@H.T) + eps)\n",
    "            H = H * (W.T@new_V) / ((W.T@W)@H + eps)\n",
    "            \n",
    "            V_ap_new = W@H\n",
    "            \n",
    "            cost_in[i] = betadiv(new_V, D*(W@H), beta)\n",
    "            \n",
    "\n",
    "            stp = (V_ap_old - V_ap_new) / V_ap_old\n",
    "            stp[stp != stp] = 0\n",
    "            if torch.norm(stp, 'fro') < tol:\n",
    "                print('Reach inner stopping criterion at out %d and in %d' %(k, i))\n",
    "                break \n",
    "        \n",
    "        cost1[k+1] = betadiv(D*V, D*(W@H), beta)\n",
    "        \n",
    "        \n",
    "        \n",
    "        V_cur = W@H\n",
    "        \n",
    "        stp1 = (V_pre - V_cur) / V_pre\n",
    "        stp1[stp1 != stp1] = 0\n",
    "        if torch.norm(stp1, 'fro') < tol:\n",
    "            print('reach outer stopping criterion %d' %(k))\n",
    "            iterator.close()\n",
    "            break\n",
    "        \n",
    "    \n",
    "    print('Current iteration %d and cost is %.3f\\n' %(k,cost1[k+1]))\n",
    "    RMSE = torch.norm((1-D)*V - (1-D)*(W@H),'fro') / np.sqrt(D[D<1].shape[0])\n",
    "    \n",
    "    return cost1, RMSE, W, H, R"
   ]
  },
  {
   "cell_type": "code",
   "execution_count": 10,
   "metadata": {
    "ExecuteTime": {
     "end_time": "2024-11-26T08:57:01.420199Z",
     "start_time": "2024-11-26T08:57:01.413707Z"
    }
   },
   "outputs": [],
   "source": [
    "def NMF(V,D,W,H,beta):\n",
    "    \"\"\"\n",
    "    Perform standard NMF. \n",
    "    \n",
    "    \"\"\"\n",
    "    \n",
    "    maxout = 100000\n",
    "\n",
    "    cost = np.zeros(maxout+1)\n",
    "    \n",
    "    for k in range(5):\n",
    "        W = W * ((D*V)@H.T) / (W@(H@H.T) + eps)\n",
    "        H = H * (W.T@(D*V)) / ((W.T@W)@H + eps)\n",
    "    \n",
    "    cost[0] = betadiv(D*V, D*(W@H), beta)\n",
    "    \n",
    "    print('Current iteration 0 and cost is %.3f\\n' %(cost[0]))\n",
    "    \n",
    "    tol = 1e-2\n",
    "    \n",
    "    \n",
    "    for k in range(maxout):\n",
    "\n",
    "        V_ap_old = W@H\n",
    "        \n",
    "        W = W * ((D*V)@H.T) / (W@(H@H.T) + eps)\n",
    "        H = H * (W.T@(D*V)) / ((W.T@W)@H + eps)\n",
    "      \n",
    "        V_ap_new = W@H\n",
    "     \n",
    "        cost[k+1] = betadiv(D*V, D*(W@H), beta)\n",
    "        \n",
    "        \n",
    "        stp = (V_ap_old - V_ap_new) / V_ap_old\n",
    "        stp[stp != stp] = 0\n",
    "        if torch.norm(stp, 'fro') < tol:\n",
    "            print('Reach stopping criterion at %d' %(k))\n",
    "            break\n",
    "\n",
    "    print('Current iteration %d and cost is %.3f\\n' %(k,cost[k+1]))\n",
    "    RMSE = torch.norm((1-D)*V - (1-D)*(W@H),'fro') / np.sqrt(D[D<1].shape[0])\n",
    "\n",
    "    \n",
    "    return cost,RMSE, W,H\n",
    "\n"
   ]
  },
  {
   "cell_type": "markdown",
   "metadata": {},
   "source": [
    "# Load Dataset"
   ]
  },
  {
   "cell_type": "code",
   "execution_count": 12,
   "metadata": {
    "ExecuteTime": {
     "end_time": "2024-11-26T09:00:12.784258Z",
     "start_time": "2024-11-26T09:00:12.508423Z"
    }
   },
   "outputs": [],
   "source": [
    "import scipy.io\n",
    "\n",
    "#mat = scipy.io.loadmat('./clean_Moffet.mat')\n",
    "mat = scipy.io.loadmat('./CBCL/X.mat')\n",
    "#mat = scipy.io.loadmat('./Moffet/V.mat')\n",
    "#mat = scipy.io.loadmat('./Synthetic/X.mat')"
   ]
  },
  {
   "cell_type": "code",
   "execution_count": 13,
   "metadata": {
    "ExecuteTime": {
     "end_time": "2024-11-26T09:00:14.579196Z",
     "start_time": "2024-11-26T09:00:14.574497Z"
    }
   },
   "outputs": [
    {
     "data": {
      "text/plain": [
       "['X', '__globals__', '__header__', '__version__']"
      ]
     },
     "execution_count": 13,
     "metadata": {},
     "output_type": "execute_result"
    }
   ],
   "source": [
    "sorted(mat.keys())"
   ]
  },
  {
   "cell_type": "code",
   "execution_count": 14,
   "metadata": {
    "ExecuteTime": {
     "end_time": "2024-11-26T09:00:17.446121Z",
     "start_time": "2024-11-26T09:00:17.441160Z"
    }
   },
   "outputs": [
    {
     "data": {
      "text/plain": [
       "(2429, 361)"
      ]
     },
     "execution_count": 14,
     "metadata": {},
     "output_type": "execute_result"
    }
   ],
   "source": [
    "mat['X'].shape"
   ]
  },
  {
   "cell_type": "code",
   "execution_count": 15,
   "metadata": {
    "ExecuteTime": {
     "end_time": "2024-11-26T09:00:19.982076Z",
     "start_time": "2024-11-26T09:00:19.976172Z"
    }
   },
   "outputs": [
    {
     "data": {
      "text/plain": [
       "(361, 2429)"
      ]
     },
     "execution_count": 15,
     "metadata": {},
     "output_type": "execute_result"
    }
   ],
   "source": [
    "dataset = mat['X'].T\n",
    "dataset.shape"
   ]
  },
  {
   "cell_type": "code",
   "execution_count": 16,
   "metadata": {
    "ExecuteTime": {
     "end_time": "2024-11-26T09:00:27.015783Z",
     "start_time": "2024-11-26T09:00:27.010014Z"
    }
   },
   "outputs": [
    {
     "data": {
      "text/plain": [
       "'\\n\\nfrom scipy.stats import invgamma\\na = 50\\nb = 70\\n\\nK = 5\\nF = 100\\nN = 50\\n\\nlambda_k = np.array(b*invgamma.rvs(a, size = 5))\\n\\n# Generate W and H using Half-Normal priors\\nW_prior = np.zeros((F,K))\\nH_prior = np.zeros((K,N))\\nfor i in range(K):\\n    W_col = abs(np.random.normal(0, lambda_k[i], F))\\n    H_row = abs(np.random.normal(0, lambda_k[i], N))\\n    \\n    W_prior[:,i] = W_col\\n    H_prior[i,:] = H_row\\n    \\ndataset = W_prior @ H_prior\\n'"
      ]
     },
     "execution_count": 16,
     "metadata": {},
     "output_type": "execute_result"
    }
   ],
   "source": [
    "# Synnthetic data\n",
    "\n",
    "# Generate lambda_k using Inverse-Gamma priors\n",
    "'''\n",
    "\n",
    "from scipy.stats import invgamma\n",
    "a = 50\n",
    "b = 70\n",
    "\n",
    "K = 5\n",
    "F = 100\n",
    "N = 50\n",
    "\n",
    "lambda_k = np.array(b*invgamma.rvs(a, size = 5))\n",
    "\n",
    "# Generate W and H using Half-Normal priors\n",
    "W_prior = np.zeros((F,K))\n",
    "H_prior = np.zeros((K,N))\n",
    "for i in range(K):\n",
    "    W_col = abs(np.random.normal(0, lambda_k[i], F))\n",
    "    H_row = abs(np.random.normal(0, lambda_k[i], N))\n",
    "    \n",
    "    W_prior[:,i] = W_col\n",
    "    H_prior[i,:] = H_row\n",
    "    \n",
    "dataset = W_prior @ H_prior\n",
    "'''\n"
   ]
  },
  {
   "cell_type": "code",
   "execution_count": 17,
   "metadata": {
    "ExecuteTime": {
     "end_time": "2024-11-26T09:00:30.366566Z",
     "start_time": "2024-11-26T09:00:30.363078Z"
    }
   },
   "outputs": [],
   "source": [
    "[F,N] = dataset.shape\n",
    "K = 49\n",
    "beta = 2"
   ]
  },
  {
   "cell_type": "markdown",
   "metadata": {},
   "source": [
    "# Send to GPU"
   ]
  },
  {
   "cell_type": "code",
   "execution_count": 18,
   "metadata": {
    "ExecuteTime": {
     "end_time": "2024-11-26T09:00:33.578943Z",
     "start_time": "2024-11-26T09:00:33.097461Z"
    }
   },
   "outputs": [
    {
     "data": {
      "text/plain": [
       "torch.Size([361, 2429])"
      ]
     },
     "execution_count": 18,
     "metadata": {},
     "output_type": "execute_result"
    }
   ],
   "source": [
    "V = np_to_var(dataset)[0].type(dtype)\n",
    "V.shape"
   ]
  },
  {
   "cell_type": "code",
   "execution_count": 40,
   "metadata": {},
   "outputs": [
    {
     "name": "stdout",
     "output_type": "stream",
     "text": [
      "Now is mask 0\n",
      "===========================================\n",
      "NMF current training size is 70 % and initialization number is 0\n",
      "\n",
      "Current iteration 0 and cost is 22290.773\n",
      "\n",
      "Current iteration 99999 and cost is 9729.213\n",
      "\n",
      "AT-NMF current training size is 70 % and initialization number is 0\n",
      "\n",
      "Current iteration 0 and cost is 22290.773\n",
      "\n"
     ]
    },
    {
     "ename": "ImportError",
     "evalue": "IProgress not found. Please update jupyter and ipywidgets. See https://ipywidgets.readthedocs.io/en/stable/user_install.html",
     "output_type": "error",
     "traceback": [
      "\u001b[0;31m---------------------------------------------------------------------------\u001b[0m",
      "\u001b[0;31mImportError\u001b[0m                               Traceback (most recent call last)",
      "Cell \u001b[0;32mIn[40], line 45\u001b[0m\n\u001b[1;32m     43\u001b[0m l_r \u001b[38;5;241m=\u001b[39m \u001b[38;5;241m2\u001b[39m \u001b[38;5;66;03m#l_r is lambda, choose lambda > 1\u001b[39;00m\n\u001b[1;32m     44\u001b[0m \u001b[38;5;28mprint\u001b[39m(\u001b[38;5;124m'\u001b[39m\u001b[38;5;124mAT-NMF current training size is \u001b[39m\u001b[38;5;132;01m%d\u001b[39;00m\u001b[38;5;124m \u001b[39m\u001b[38;5;132;01m%%\u001b[39;00m\u001b[38;5;124m and initialization number is \u001b[39m\u001b[38;5;132;01m%d\u001b[39;00m\u001b[38;5;130;01m\\n\u001b[39;00m\u001b[38;5;124m'\u001b[39m \u001b[38;5;241m%\u001b[39m(\u001b[38;5;241m70\u001b[39m\u001b[38;5;241m-\u001b[39m\u001b[38;5;241m10\u001b[39m\u001b[38;5;241m*\u001b[39md,it))\n\u001b[0;32m---> 45\u001b[0m anmf_cost1[it,:], anmf_rmse1[\u001b[38;5;241m0\u001b[39m,it], W_at_1, H_at_1, R_1 \u001b[38;5;241m=\u001b[39m \u001b[43mA_NMF\u001b[49m\u001b[43m(\u001b[49m\u001b[43mV\u001b[49m\u001b[43m,\u001b[49m\u001b[43mD_ls\u001b[49m\u001b[43m,\u001b[49m\u001b[43mW_ls\u001b[49m\u001b[43m,\u001b[49m\u001b[43mH_ls\u001b[49m\u001b[43m,\u001b[49m\u001b[43mbeta\u001b[49m\u001b[43m,\u001b[49m\u001b[43ml_r\u001b[49m\u001b[43m)\u001b[49m\n\u001b[1;32m     46\u001b[0m \u001b[38;5;250m\u001b[39m\u001b[38;5;124;03m'''\u001b[39;00m\n\u001b[1;32m     47\u001b[0m \u001b[38;5;124;03mplt.plot(anmf_cost1[it,0:])\u001b[39;00m\n\u001b[1;32m     48\u001b[0m \u001b[38;5;124;03mplt.xlabel('Iteration')\u001b[39;00m\n\u001b[0;32m   (...)\u001b[0m\n\u001b[1;32m     52\u001b[0m \u001b[38;5;124;03m\u001b[39;00m\n\u001b[1;32m     53\u001b[0m \u001b[38;5;124;03m'''\u001b[39;00m\n",
      "Cell \u001b[0;32mIn[9], line 32\u001b[0m, in \u001b[0;36mA_NMF\u001b[0;34m(V, D, W, H, beta, l_r)\u001b[0m\n\u001b[1;32m     28\u001b[0m \u001b[38;5;28mprint\u001b[39m(\u001b[38;5;124m'\u001b[39m\u001b[38;5;124mCurrent iteration 0 and cost is \u001b[39m\u001b[38;5;132;01m%.3f\u001b[39;00m\u001b[38;5;130;01m\\n\u001b[39;00m\u001b[38;5;124m'\u001b[39m \u001b[38;5;241m%\u001b[39m(cost1[\u001b[38;5;241m0\u001b[39m]))\n\u001b[1;32m     31\u001b[0m \u001b[38;5;66;03m# Start Adversarial Training\u001b[39;00m\n\u001b[0;32m---> 32\u001b[0m iterator \u001b[38;5;241m=\u001b[39m \u001b[43mtqdm\u001b[49m\u001b[43m(\u001b[49m\u001b[38;5;28;43mrange\u001b[39;49m\u001b[43m(\u001b[49m\u001b[43mmaxout\u001b[49m\u001b[43m)\u001b[49m\u001b[43m)\u001b[49m\n\u001b[1;32m     33\u001b[0m \u001b[38;5;28;01mfor\u001b[39;00m k \u001b[38;5;129;01min\u001b[39;00m iterator:\n\u001b[1;32m     34\u001b[0m     \n\u001b[1;32m     35\u001b[0m     \u001b[38;5;66;03m# Update R\u001b[39;00m\n\u001b[1;32m     36\u001b[0m     R \u001b[38;5;241m=\u001b[39m torch\u001b[38;5;241m.\u001b[39mmax( (D\u001b[38;5;241m*\u001b[39mV \u001b[38;5;241m-\u001b[39m D\u001b[38;5;241m*\u001b[39m(W\u001b[38;5;129m@H\u001b[39m))\u001b[38;5;241m/\u001b[39m(l_r\u001b[38;5;241m-\u001b[39m\u001b[38;5;241m1\u001b[39m), \u001b[38;5;241m-\u001b[39mD\u001b[38;5;241m*\u001b[39mV )\n",
      "File \u001b[0;32m~/.pyenv/versions/3.11.6/lib/python3.11/site-packages/tqdm/notebook.py:234\u001b[0m, in \u001b[0;36mtqdm_notebook.__init__\u001b[0;34m(self, *args, **kwargs)\u001b[0m\n\u001b[1;32m    232\u001b[0m unit_scale \u001b[38;5;241m=\u001b[39m \u001b[38;5;241m1\u001b[39m \u001b[38;5;28;01mif\u001b[39;00m \u001b[38;5;28mself\u001b[39m\u001b[38;5;241m.\u001b[39munit_scale \u001b[38;5;129;01mis\u001b[39;00m \u001b[38;5;28;01mTrue\u001b[39;00m \u001b[38;5;28;01melse\u001b[39;00m \u001b[38;5;28mself\u001b[39m\u001b[38;5;241m.\u001b[39munit_scale \u001b[38;5;129;01mor\u001b[39;00m \u001b[38;5;241m1\u001b[39m\n\u001b[1;32m    233\u001b[0m total \u001b[38;5;241m=\u001b[39m \u001b[38;5;28mself\u001b[39m\u001b[38;5;241m.\u001b[39mtotal \u001b[38;5;241m*\u001b[39m unit_scale \u001b[38;5;28;01mif\u001b[39;00m \u001b[38;5;28mself\u001b[39m\u001b[38;5;241m.\u001b[39mtotal \u001b[38;5;28;01melse\u001b[39;00m \u001b[38;5;28mself\u001b[39m\u001b[38;5;241m.\u001b[39mtotal\n\u001b[0;32m--> 234\u001b[0m \u001b[38;5;28mself\u001b[39m\u001b[38;5;241m.\u001b[39mcontainer \u001b[38;5;241m=\u001b[39m \u001b[38;5;28;43mself\u001b[39;49m\u001b[38;5;241;43m.\u001b[39;49m\u001b[43mstatus_printer\u001b[49m\u001b[43m(\u001b[49m\u001b[38;5;28;43mself\u001b[39;49m\u001b[38;5;241;43m.\u001b[39;49m\u001b[43mfp\u001b[49m\u001b[43m,\u001b[49m\u001b[43m \u001b[49m\u001b[43mtotal\u001b[49m\u001b[43m,\u001b[49m\u001b[43m \u001b[49m\u001b[38;5;28;43mself\u001b[39;49m\u001b[38;5;241;43m.\u001b[39;49m\u001b[43mdesc\u001b[49m\u001b[43m,\u001b[49m\u001b[43m \u001b[49m\u001b[38;5;28;43mself\u001b[39;49m\u001b[38;5;241;43m.\u001b[39;49m\u001b[43mncols\u001b[49m\u001b[43m)\u001b[49m\n\u001b[1;32m    235\u001b[0m \u001b[38;5;28mself\u001b[39m\u001b[38;5;241m.\u001b[39mcontainer\u001b[38;5;241m.\u001b[39mpbar \u001b[38;5;241m=\u001b[39m proxy(\u001b[38;5;28mself\u001b[39m)\n\u001b[1;32m    236\u001b[0m \u001b[38;5;28mself\u001b[39m\u001b[38;5;241m.\u001b[39mdisplayed \u001b[38;5;241m=\u001b[39m \u001b[38;5;28;01mFalse\u001b[39;00m\n",
      "File \u001b[0;32m~/.pyenv/versions/3.11.6/lib/python3.11/site-packages/tqdm/notebook.py:108\u001b[0m, in \u001b[0;36mtqdm_notebook.status_printer\u001b[0;34m(_, total, desc, ncols)\u001b[0m\n\u001b[1;32m     99\u001b[0m \u001b[38;5;66;03m# Fallback to text bar if there's no total\u001b[39;00m\n\u001b[1;32m    100\u001b[0m \u001b[38;5;66;03m# DEPRECATED: replaced with an 'info' style bar\u001b[39;00m\n\u001b[1;32m    101\u001b[0m \u001b[38;5;66;03m# if not total:\u001b[39;00m\n\u001b[0;32m   (...)\u001b[0m\n\u001b[1;32m    105\u001b[0m \n\u001b[1;32m    106\u001b[0m \u001b[38;5;66;03m# Prepare IPython progress bar\u001b[39;00m\n\u001b[1;32m    107\u001b[0m \u001b[38;5;28;01mif\u001b[39;00m IProgress \u001b[38;5;129;01mis\u001b[39;00m \u001b[38;5;28;01mNone\u001b[39;00m:  \u001b[38;5;66;03m# #187 #451 #558 #872\u001b[39;00m\n\u001b[0;32m--> 108\u001b[0m     \u001b[38;5;28;01mraise\u001b[39;00m \u001b[38;5;167;01mImportError\u001b[39;00m(WARN_NOIPYW)\n\u001b[1;32m    109\u001b[0m \u001b[38;5;28;01mif\u001b[39;00m total:\n\u001b[1;32m    110\u001b[0m     pbar \u001b[38;5;241m=\u001b[39m IProgress(\u001b[38;5;28mmin\u001b[39m\u001b[38;5;241m=\u001b[39m\u001b[38;5;241m0\u001b[39m, \u001b[38;5;28mmax\u001b[39m\u001b[38;5;241m=\u001b[39mtotal)\n",
      "\u001b[0;31mImportError\u001b[0m: IProgress not found. Please update jupyter and ipywidgets. See https://ipywidgets.readthedocs.io/en/stable/user_install.html"
     ]
    }
   ],
   "source": [
    "# set random seed to be 1\n",
    "np.random.seed(seed=1)\n",
    "\n",
    "# We have generated 7 binary mask for training, corresponding with alpha = 0.3,..,0.9 with 0.1 step size\n",
    "# mask1 is alpha = 0.3, which is to remove 30% and use the remaining 70% for training.\n",
    "# mask2 is alpha = 0.4\n",
    "# ...\n",
    "# mask7 is alpha = 0.9\n",
    "for d in range(7):\n",
    "    print('Now is mask %d' %(d))\n",
    "    print(\"===========================================\")\n",
    "    D_ls = scipy.io.loadmat('./CBCL/mask'+str(d+1)+'.mat')['mask'].T\n",
    "    D_ls = np_to_var(D_ls)[0].type(dtype)\n",
    "    \n",
    "    nmf_rmse = np.zeros((1,10))\n",
    "    nmf_cost = np.zeros((10,100000+1))\n",
    "\n",
    "    anmf_rmse1 = np.zeros((1,10))\n",
    "    anmf_cost1 = np.zeros((10,100+1))\n",
    "\n",
    "    # We use 10 different initializations for each experiment\n",
    "    for it in range(10):\n",
    "        W_ls = abs(np.random.normal(0,1, size = (F,K)))\n",
    "        W_ls = np_to_var(W_ls)[0].type(dtype)\n",
    "\n",
    "        H_ls = abs(np.random.normal(0,1,size = (K,N)))\n",
    "        H_ls = np_to_var(H_ls)[0].type(dtype)\n",
    "\n",
    "        # For standard NMF\n",
    "        print('NMF current training size is %d %% and initialization number is %d\\n' %(70-10*d,it))\n",
    "        nmf_cost[it,:], nmf_rmse[0,it], W_nmf, H_nmf = NMF(V,D_ls,W_ls,H_ls,beta)\n",
    "        '''\n",
    "        plt.plot(nmf_cost[it,0:])\n",
    "        plt.xlabel('Iteration')\n",
    "        plt.ylabel('Loss')\n",
    "        plt.title('NMF cost') \n",
    "        plt.show()\n",
    "        '''\n",
    "        \n",
    "\n",
    "        # For AT-NMF\n",
    "\n",
    "        l_r = 2 #l_r is lambda, choose lambda > 1\n",
    "        print('AT-NMF current training size is %d %% and initialization number is %d\\n' %(70-10*d,it))\n",
    "        anmf_cost1[it,:], anmf_rmse1[0,it], W_at_1, H_at_1, R_1 = A_NMF(V,D_ls,W_ls,H_ls,beta,l_r)\n",
    "        '''\n",
    "        plt.plot(anmf_cost1[it,0:])\n",
    "        plt.xlabel('Iteration')\n",
    "        plt.ylabel('Loss')\n",
    "        plt.title('Outer Beta Divergence V+R Loss lambda=2') \n",
    "        plt.show()\n",
    "        \n",
    "        '''"
   ]
  },
  {
   "cell_type": "code",
   "execution_count": null,
   "metadata": {},
   "outputs": [
    {
     "ename": "",
     "evalue": "",
     "output_type": "error",
     "traceback": [
      "\u001b[1;31mRunning cells with 'Python 3.8.10' requires the ipykernel package.\n",
      "\u001b[1;31mRun the following command to install 'ipykernel' into the Python environment. \n",
      "\u001b[1;31mCommand: '/bin/python3 -m pip install ipykernel -U --user --force-reinstall'"
     ]
    }
   ],
   "source": []
  },
  {
   "cell_type": "code",
   "execution_count": 29,
   "metadata": {},
   "outputs": [
    {
     "name": "stderr",
     "output_type": "stream",
     "text": [
      "Exception ignored in: <function tqdm.__del__ at 0x151c24d61620>\n",
      "Traceback (most recent call last):\n",
      "  File \"/home/peilin/.pyenv/versions/3.11.6/lib/python3.11/site-packages/tqdm/std.py\", line 1148, in __del__\n",
      "    self.close()\n",
      "  File \"/home/peilin/.pyenv/versions/3.11.6/lib/python3.11/site-packages/tqdm/notebook.py\", line 279, in close\n",
      "    self.disp(bar_style='danger', check_delay=False)\n",
      "    ^^^^^^^^^\n",
      "AttributeError: 'tqdm_notebook' object has no attribute 'disp'\n"
     ]
    },
    {
     "data": {
      "image/png": "[encoded data removed]",
      "text/plain": [
       "<Figure size 900x450 with 1 Axes>"
      ]
     },
     "metadata": {},
     "output_type": "display_data"
    }
   ],
   "source": [
    "# Loss plot of NMF \n",
    "import matplotlib\n",
    "from matplotlib import rc\n",
    "import matplotlib.pyplot as plt\n",
    "\n",
    "plt.figure(1, figsize=[9,4.5])\n",
    "plt.rcParams.update({'font.size': 16})\n",
    "\n",
    "plt.plot(nmf_cost[0,0:1000], linewidth=3) # show only the firt 1000 iteration to see the details\n",
    "\n",
    "plt.xlabel('Iteration', fontsize = 40)\n",
    "plt.ylabel('Loss', fontsize = 40)\n",
    "\n",
    "plt.ticklabel_format(style='sci', axis='y', scilimits=(0,0))\n",
    "\n",
    "plt.rc('xtick', labelsize=25)    # fontsize of the tick labels\n",
    "plt.rc('ytick', labelsize=30) \n",
    "\n",
    "plt.title('NMF', fontsize = 40)\n",
    "#plt.legend(fontsize = 30)\n",
    "plt.grid(True)\n",
    "#plt.savefig('NMF_loss.eps', bbox_inches = 'tight')\n",
    "plt.show()"
   ]
  },
  {
   "cell_type": "code",
   "execution_count": 30,
   "metadata": {},
   "outputs": [
    {
     "data": {
      "text/plain": [
       "\"\\n# Plot the loss plot of AT-NMF when lambda = 2 and 5\\nimport matplotlib\\nfrom matplotlib import rc\\nimport matplotlib.pyplot as plt\\n#x = np.array([1.1,1.2,1.3,1.4,1.5,1.6,1.7,1.8,1.9,2,3,4,5,6,7,8,9,10])\\nplt.figure(1, figsize=[9,4.5])\\nplt.rcParams.update({'font.size': 16})\\n\\nplt.plot(anmf_cost1[0,0:], linewidth=3, label=r'$\\\\lambda = 2$')\\nplt.plot(anmf_cost4[0,0:],'--', linewidth=3, label=r'$\\\\lambda = 5$')\\nplt.xlabel('Outer Iteration', fontsize = 40)\\nplt.ylabel('Loss', fontsize = 40)\\n\\nplt.ticklabel_format(style='sci', axis='y', scilimits=(0,0))\\n\\nplt.rc('xtick', labelsize=40)    # fontsize of the tick labels\\nplt.rc('ytick', labelsize=30) \\n\\nplt.title('AT-NMF', fontsize = 40)\\nplt.legend(fontsize = 30)\\nplt.grid(True)\\n#savefig('tex_demo')\\nplt.savefig('AT-NMF_loss.eps', bbox_inches = 'tight')\\nplt.show()\\n\""
      ]
     },
     "execution_count": 30,
     "metadata": {},
     "output_type": "execute_result"
    }
   ],
   "source": [
    "'''\n",
    "# Plot the loss plot of AT-NMF when lambda = 2 and 5\n",
    "import matplotlib\n",
    "from matplotlib import rc\n",
    "import matplotlib.pyplot as plt\n",
    "#x = np.array([1.1,1.2,1.3,1.4,1.5,1.6,1.7,1.8,1.9,2,3,4,5,6,7,8,9,10])\n",
    "plt.figure(1, figsize=[9,4.5])\n",
    "plt.rcParams.update({'font.size': 16})\n",
    "\n",
    "plt.plot(anmf_cost1[0,0:], linewidth=3, label=r'$\\lambda = 2$')\n",
    "plt.plot(anmf_cost4[0,0:],'--', linewidth=3, label=r'$\\lambda = 5$')\n",
    "plt.xlabel('Outer Iteration', fontsize = 40)\n",
    "plt.ylabel('Loss', fontsize = 40)\n",
    "\n",
    "plt.ticklabel_format(style='sci', axis='y', scilimits=(0,0))\n",
    "\n",
    "plt.rc('xtick', labelsize=40)    # fontsize of the tick labels\n",
    "plt.rc('ytick', labelsize=30) \n",
    "\n",
    "plt.title('AT-NMF', fontsize = 40)\n",
    "plt.legend(fontsize = 30)\n",
    "plt.grid(True)\n",
    "#savefig('tex_demo')\n",
    "plt.savefig('AT-NMF_loss.eps', bbox_inches = 'tight')\n",
    "plt.show()\n",
    "'''"
   ]
  },
  {
   "cell_type": "code",
   "execution_count": 31,
   "metadata": {},
   "outputs": [
    {
     "data": {
      "image/png": "[encoded data removed]",
      "text/plain": [
       "<Figure size 640x480 with 1 Axes>"
      ]
     },
     "metadata": {},
     "output_type": "display_data"
    }
   ],
   "source": [
    "# Show the first image in CBCL dataset\n",
    "plt.imshow( V[:,0].reshape((19,19)).cpu().numpy(), cmap='gray', vmin = 0, vmax = 1) # 0: black, 1: white\n",
    "\n",
    "plt.yticks([])\n",
    "plt.xticks([])\n",
    "\n",
    "plt.show()"
   ]
  },
  {
   "cell_type": "code",
   "execution_count": 32,
   "metadata": {},
   "outputs": [
    {
     "data": {
      "text/plain": [
       "<matplotlib.image.AxesImage at 0x151c7ff121d0>"
      ]
     },
     "execution_count": 32,
     "metadata": {},
     "output_type": "execute_result"
    },
    {
     "data": {
      "image/png": "[encoded data removed]",
      "text/plain": [
       "<Figure size 640x480 with 1 Axes>"
      ]
     },
     "metadata": {},
     "output_type": "display_data"
    }
   ],
   "source": [
    "# Show the masked training image V, missing pixels in red\n",
    "im = (D_ls *(V))[:,0].reshape((19,19)).cpu().numpy()\n",
    "temp = D_ls[:,0].reshape((19,19)).cpu().numpy()\n",
    "allzeros = np.transpose(np.where(temp ==0))\n",
    "I = np.dstack([im, im, im])\n",
    "for i in allzeros:\n",
    "    I[i[0],i[1],:] = [1, 0, 0]\n",
    "plt.yticks([])\n",
    "plt.xticks([])\n",
    "plt.imshow(I, interpolation='nearest', cmap = 'gray',vmin = 0, vmax = 1 )  \n",
    "    "
   ]
  },
  {
   "cell_type": "code",
   "execution_count": 33,
   "metadata": {},
   "outputs": [
    {
     "ename": "NameError",
     "evalue": "name 'R_1' is not defined",
     "output_type": "error",
     "traceback": [
      "\u001b[0;31m---------------------------------------------------------------------------\u001b[0m",
      "\u001b[0;31mNameError\u001b[0m                                 Traceback (most recent call last)",
      "Cell \u001b[0;32mIn[33], line 2\u001b[0m\n\u001b[1;32m      1\u001b[0m \u001b[38;5;66;03m# Show the adversary adds-on image R*\u001b[39;00m\n\u001b[0;32m----> 2\u001b[0m im \u001b[38;5;241m=\u001b[39m (D_ls \u001b[38;5;241m*\u001b[39m(\u001b[43mR_1\u001b[49m))[:,\u001b[38;5;241m0\u001b[39m]\u001b[38;5;241m.\u001b[39mreshape((\u001b[38;5;241m19\u001b[39m,\u001b[38;5;241m19\u001b[39m))\u001b[38;5;241m.\u001b[39mcpu()\u001b[38;5;241m.\u001b[39mnumpy()\n\u001b[1;32m      3\u001b[0m temp \u001b[38;5;241m=\u001b[39m D_ls[:,\u001b[38;5;241m0\u001b[39m]\u001b[38;5;241m.\u001b[39mreshape((\u001b[38;5;241m19\u001b[39m,\u001b[38;5;241m19\u001b[39m))\u001b[38;5;241m.\u001b[39mcpu()\u001b[38;5;241m.\u001b[39mnumpy()\n\u001b[1;32m      4\u001b[0m allzeros \u001b[38;5;241m=\u001b[39m np\u001b[38;5;241m.\u001b[39mtranspose(np\u001b[38;5;241m.\u001b[39mwhere(temp \u001b[38;5;241m==\u001b[39m\u001b[38;5;241m0\u001b[39m))\n",
      "\u001b[0;31mNameError\u001b[0m: name 'R_1' is not defined"
     ]
    }
   ],
   "source": [
    "# Show the adversary adds-on image R*\n",
    "im = (D_ls *(R_1))[:,0].reshape((19,19)).cpu().numpy()\n",
    "temp = D_ls[:,0].reshape((19,19)).cpu().numpy()\n",
    "allzeros = np.transpose(np.where(temp ==0))\n",
    "I = np.dstack([im, im, im])\n",
    "for i in allzeros:\n",
    "    I[i[0],i[1],:] = [1, 0, 0]\n",
    "plt.yticks([])\n",
    "plt.xticks([])\n",
    "plt.imshow(I, interpolation='nearest', cmap = 'gray',vmin = 0, vmax = 1 )"
   ]
  },
  {
   "cell_type": "code",
   "execution_count": 34,
   "metadata": {},
   "outputs": [
    {
     "ename": "NameError",
     "evalue": "name 'R_1' is not defined",
     "output_type": "error",
     "traceback": [
      "\u001b[0;31m---------------------------------------------------------------------------\u001b[0m",
      "\u001b[0;31mNameError\u001b[0m                                 Traceback (most recent call last)",
      "Cell \u001b[0;32mIn[34], line 2\u001b[0m\n\u001b[1;32m      1\u001b[0m \u001b[38;5;66;03m# Show the adversarially trained masked image V+R*\u001b[39;00m\n\u001b[0;32m----> 2\u001b[0m im \u001b[38;5;241m=\u001b[39m (D_ls \u001b[38;5;241m*\u001b[39m(V\u001b[38;5;241m+\u001b[39m\u001b[43mR_1\u001b[49m))[:,\u001b[38;5;241m0\u001b[39m]\u001b[38;5;241m.\u001b[39mreshape((\u001b[38;5;241m19\u001b[39m,\u001b[38;5;241m19\u001b[39m))\u001b[38;5;241m.\u001b[39mcpu()\u001b[38;5;241m.\u001b[39mnumpy()\n\u001b[1;32m      3\u001b[0m temp \u001b[38;5;241m=\u001b[39m D_ls[:,\u001b[38;5;241m0\u001b[39m]\u001b[38;5;241m.\u001b[39mreshape((\u001b[38;5;241m19\u001b[39m,\u001b[38;5;241m19\u001b[39m))\u001b[38;5;241m.\u001b[39mcpu()\u001b[38;5;241m.\u001b[39mnumpy()\n\u001b[1;32m      4\u001b[0m allzeros \u001b[38;5;241m=\u001b[39m np\u001b[38;5;241m.\u001b[39mtranspose(np\u001b[38;5;241m.\u001b[39mwhere(temp \u001b[38;5;241m==\u001b[39m\u001b[38;5;241m0\u001b[39m))\n",
      "\u001b[0;31mNameError\u001b[0m: name 'R_1' is not defined"
     ]
    }
   ],
   "source": [
    "# Show the adversarially trained masked image V+R*\n",
    "im = (D_ls *(V+R_1))[:,0].reshape((19,19)).cpu().numpy()\n",
    "temp = D_ls[:,0].reshape((19,19)).cpu().numpy()\n",
    "allzeros = np.transpose(np.where(temp ==0))\n",
    "I = np.dstack([im, im, im])\n",
    "for i in allzeros:\n",
    "    I[i[0],i[1],:] = [1, 0, 0]\n",
    "plt.yticks([])\n",
    "plt.xticks([])\n",
    "plt.imshow(I, interpolation='nearest', cmap = 'gray',vmin = 0, vmax = 1 )"
   ]
  },
  {
   "cell_type": "code",
   "execution_count": 35,
   "metadata": {},
   "outputs": [
    {
     "ename": "NameError",
     "evalue": "name 'W_at_1' is not defined",
     "output_type": "error",
     "traceback": [
      "\u001b[0;31m---------------------------------------------------------------------------\u001b[0m",
      "\u001b[0;31mNameError\u001b[0m                                 Traceback (most recent call last)",
      "Cell \u001b[0;32mIn[35], line 2\u001b[0m\n\u001b[1;32m      1\u001b[0m \u001b[38;5;66;03m# Show the restore image by AT-NMF\u001b[39;00m\n\u001b[0;32m----> 2\u001b[0m plt\u001b[38;5;241m.\u001b[39mimshow((D_ls \u001b[38;5;241m*\u001b[39m V \u001b[38;5;241m+\u001b[39m (\u001b[38;5;241m1\u001b[39m\u001b[38;5;241m-\u001b[39mD_ls)\u001b[38;5;241m*\u001b[39m(\u001b[43mW_at_1\u001b[49m \u001b[38;5;241m@\u001b[39m H_at_1))[:,\u001b[38;5;241m0\u001b[39m]\u001b[38;5;241m.\u001b[39mreshape((\u001b[38;5;241m19\u001b[39m,\u001b[38;5;241m19\u001b[39m))\u001b[38;5;241m.\u001b[39mcpu()\u001b[38;5;241m.\u001b[39mnumpy(), cmap\u001b[38;5;241m=\u001b[39m\u001b[38;5;124m'\u001b[39m\u001b[38;5;124mgray\u001b[39m\u001b[38;5;124m'\u001b[39m, vmin \u001b[38;5;241m=\u001b[39m \u001b[38;5;241m0\u001b[39m, vmax \u001b[38;5;241m=\u001b[39m \u001b[38;5;241m1\u001b[39m) \u001b[38;5;66;03m# 0: black, 1: white\u001b[39;00m\n\u001b[1;32m      3\u001b[0m \u001b[38;5;66;03m#plt.ylabel(r'V+R $(\\lambda = 5)$')\u001b[39;00m\n\u001b[1;32m      4\u001b[0m \u001b[38;5;66;03m#plt.gca().axes.get_yaxis().set_visible(False)\u001b[39;00m\n\u001b[1;32m      5\u001b[0m plt\u001b[38;5;241m.\u001b[39myticks([])\n",
      "\u001b[0;31mNameError\u001b[0m: name 'W_at_1' is not defined"
     ]
    }
   ],
   "source": [
    "# Show the restore image by AT-NMF\n",
    "plt.imshow((D_ls * V + (1-D_ls)*(W_at_1 @ H_at_1))[:,0].reshape((19,19)).cpu().numpy(), cmap='gray', vmin = 0, vmax = 1) # 0: black, 1: white\n",
    "#plt.ylabel(r'V+R $(\\lambda = 5)$')\n",
    "#plt.gca().axes.get_yaxis().set_visible(False)\n",
    "plt.yticks([])\n",
    "plt.xticks([])\n",
    "plt.show()"
   ]
  },
  {
   "cell_type": "markdown",
   "metadata": {},
   "source": [
    "# Check the Basis"
   ]
  },
  {
   "cell_type": "code",
   "execution_count": 36,
   "metadata": {},
   "outputs": [
    {
     "data": {
      "text/plain": [
       "<matplotlib.image.AxesImage at 0x151ac5f8cad0>"
      ]
     },
     "execution_count": 36,
     "metadata": {},
     "output_type": "execute_result"
    },
    {
     "data": {
      "image/png": "[encoded data removed]",
      "text/plain": [
       "<Figure size 640x480 with 1 Axes>"
      ]
     },
     "metadata": {},
     "output_type": "display_data"
    }
   ],
   "source": [
    "# Basis image trained by standard NMF\n",
    "set_cmap('gray')\n",
    "blank = new(\"L\", (133 + 6, 133 + 6))\n",
    "for i in range(7):\n",
    "    for j in range(7):\n",
    "        basis = W_nmf.cpu().numpy()[:,7*i+j].reshape((19,19))\n",
    "        basis = basis / (np.max(basis)-np.min(basis)) * 255\n",
    "        basis = 255 - basis\n",
    "        ima = fromarray(basis)\n",
    "        ima = ima.rotate(270)\n",
    "        expand(ima, border=1, fill='black')\n",
    "        blank.paste(ima.copy(), (j * 19 + j, i * 19 + i))\n",
    "plt.title('NMF', fontsize = '30')\n",
    "plt.yticks([])\n",
    "plt.xticks([])\n",
    "#plt.savefig('nmf_restored.eps', bbox_inches = 'tight')\n",
    "\n",
    "imshow(blank)"
   ]
  },
  {
   "cell_type": "code",
   "execution_count": 37,
   "metadata": {},
   "outputs": [
    {
     "ename": "NameError",
     "evalue": "name 'W_at_1' is not defined",
     "output_type": "error",
     "traceback": [
      "\u001b[0;31m---------------------------------------------------------------------------\u001b[0m",
      "\u001b[0;31mNameError\u001b[0m                                 Traceback (most recent call last)",
      "Cell \u001b[0;32mIn[37], line 6\u001b[0m\n\u001b[1;32m      4\u001b[0m \u001b[38;5;28;01mfor\u001b[39;00m i \u001b[38;5;129;01min\u001b[39;00m \u001b[38;5;28mrange\u001b[39m(\u001b[38;5;241m7\u001b[39m):\n\u001b[1;32m      5\u001b[0m     \u001b[38;5;28;01mfor\u001b[39;00m j \u001b[38;5;129;01min\u001b[39;00m \u001b[38;5;28mrange\u001b[39m(\u001b[38;5;241m7\u001b[39m):\n\u001b[0;32m----> 6\u001b[0m         basis \u001b[38;5;241m=\u001b[39m \u001b[43mW_at_1\u001b[49m\u001b[38;5;241m.\u001b[39mcpu()\u001b[38;5;241m.\u001b[39mnumpy()[:,\u001b[38;5;241m7\u001b[39m\u001b[38;5;241m*\u001b[39mi\u001b[38;5;241m+\u001b[39mj]\u001b[38;5;241m.\u001b[39mreshape((\u001b[38;5;241m19\u001b[39m,\u001b[38;5;241m19\u001b[39m))\n\u001b[1;32m      7\u001b[0m         basis \u001b[38;5;241m=\u001b[39m basis \u001b[38;5;241m/\u001b[39m (np\u001b[38;5;241m.\u001b[39mmax(basis)\u001b[38;5;241m-\u001b[39mnp\u001b[38;5;241m.\u001b[39mmin(basis)) \u001b[38;5;241m*\u001b[39m \u001b[38;5;241m255\u001b[39m\n\u001b[1;32m      8\u001b[0m         basis \u001b[38;5;241m=\u001b[39m \u001b[38;5;241m255\u001b[39m \u001b[38;5;241m-\u001b[39m basis\n",
      "\u001b[0;31mNameError\u001b[0m: name 'W_at_1' is not defined"
     ]
    },
    {
     "data": {
      "text/plain": [
       "<Figure size 640x480 with 0 Axes>"
      ]
     },
     "metadata": {},
     "output_type": "display_data"
    }
   ],
   "source": [
    "# Basis image trained by AT-NMF (lambda = 2)\n",
    "set_cmap('gray')\n",
    "blank = new(\"L\", (133 + 6, 133 + 6))\n",
    "for i in range(7):\n",
    "    for j in range(7):\n",
    "        basis = W_at_1.cpu().numpy()[:,7*i+j].reshape((19,19))\n",
    "        basis = basis / (np.max(basis)-np.min(basis)) * 255\n",
    "        basis = 255 - basis\n",
    "        ima = fromarray(basis)\n",
    "        ima = ima.rotate(270)\n",
    "        expand(ima, border=1, fill='black')\n",
    "        blank.paste(ima.copy(), (j * 19 + j, i * 19 + i))\n",
    "plt.title(r'AT-NMF $\\lambda = 2$', fontsize = '30')\n",
    "plt.yticks([])\n",
    "plt.xticks([])\n",
    "\n",
    "imshow(blank)"
   ]
  },
  {
   "cell_type": "code",
   "execution_count": null,
   "metadata": {},
   "outputs": [
    {
     "ename": "",
     "evalue": "",
     "output_type": "error",
     "traceback": [
      "\u001b[1;31mRunning cells with 'Python 3.8.10' requires the ipykernel package.\n",
      "\u001b[1;31mRun the following command to install 'ipykernel' into the Python environment. \n",
      "\u001b[1;31mCommand: '/bin/python3 -m pip install ipykernel -U --user --force-reinstall'"
     ]
    }
   ],
   "source": []
  },
  {
   "cell_type": "code",
   "execution_count": null,
   "metadata": {},
   "outputs": [
    {
     "ename": "",
     "evalue": "",
     "output_type": "error",
     "traceback": [
      "\u001b[1;31mRunning cells with 'Python 3.8.10' requires the ipykernel package.\n",
      "\u001b[1;31mRun the following command to install 'ipykernel' into the Python environment. \n",
      "\u001b[1;31mCommand: '/bin/python3 -m pip install ipykernel -U --user --force-reinstall'"
     ]
    }
   ],
   "source": []
  }
 ],
 "metadata": {
  "kernelspec": {
   "display_name": "Python 3",
   "language": "python",
   "name": "python3"
  },
  "language_info": {
   "codemirror_mode": {
    "name": "ipython",
    "version": 3
   },
   "file_extension": ".py",
   "mimetype": "text/x-python",
   "name": "python",
   "nbconvert_exporter": "python",
   "pygments_lexer": "ipython3",
   "version": "3.11.6"
  }
 },
 "nbformat": 4,
 "nbformat_minor": 4
}
