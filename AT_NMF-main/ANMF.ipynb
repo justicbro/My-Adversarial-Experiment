{
 "cells": [
  {
   "cell_type": "code",
   "metadata": {
    "ExecuteTime": {
     "end_time": "2024-11-26T08:56:20.190849Z",
     "start_time": "2024-11-26T08:55:50.678289Z"
    }
   },
   "source": [
    "from os.path import dirname, abspath\n",
    "from os.path import join\n",
    "import PIL\n",
    "from PIL.Image import open, new, fromarray\n",
    "from PIL.ImageOps import expand\n",
    "from matplotlib.pyplot import savefig, imshow, set_cmap\n",
    "import matplotlib.pyplot as plt\n",
    "import numpy as np\n",
    "\n",
    "from numpy import linalg as LA\n",
    "from tqdm.notebook import tqdm\n",
    "\n",
    "import torchvision\n",
    "import sys\n",
    "\n",
    "import torch\n",
    "from torch.autograd import Variable\n",
    "import os\n",
    "\n",
    "from include import helper\n",
    "\n",
    "GPU = True\n",
    "if GPU == True:\n",
    "    torch.backends.cudnn.enabled = True\n",
    "    torch.backends.cudnn.benchmark = True\n",
    "    os.environ['CUDA_VISIBLE_DEVICES'] = '0'\n",
    "    print(\"num GPUs\", torch.cuda.device_count())\n",
    "    dtype = torch.cuda.FloatTensor\n",
    "else:\n",
    "    dtype = torch.FloatTensor\n",
    "\n",
    "torch.set_printoptions(precision=4)"
   ],
   "outputs": [
    {
     "name": "stdout",
     "output_type": "stream",
     "text": [
      "num GPUs 0\n"
     ]
    }
   ],
   "execution_count": 1
  },
  {
   "cell_type": "code",
   "metadata": {
    "ExecuteTime": {
     "end_time": "2024-11-26T08:56:34.689378Z",
     "start_time": "2024-11-26T08:56:34.681710Z"
    }
   },
   "source": [
    "eps = np.spacing(1)\n",
    "eps"
   ],
   "outputs": [
    {
     "data": {
      "text/plain": [
       "2.220446049250313e-16"
      ]
     },
     "execution_count": 2,
     "metadata": {},
     "output_type": "execute_result"
    }
   ],
   "execution_count": 2
  },
  {
   "cell_type": "code",
   "metadata": {
    "ExecuteTime": {
     "end_time": "2024-11-26T08:56:37.578002Z",
     "start_time": "2024-11-26T08:56:37.573721Z"
    }
   },
   "source": [
    "def np_to_tensor(img_np):\n",
    "    '''Converts image in numpy.array to torch.Tensor.\n",
    "\n",
    "    From C x W x H [0..1] to  C x W x H [0..1]\n",
    "    '''\n",
    "    return torch.from_numpy(img_np)\n",
    "\n",
    "def np_to_var(img_np, dtype = torch.cuda.FloatTensor):\n",
    "    '''Converts image in numpy.array to torch.Variable.\n",
    "    \n",
    "    From C x W x H [0..1] to  1 x C x W x H [0..1]\n",
    "    '''\n",
    "    return Variable(np_to_tensor(img_np)[None, :])\n",
    "\n",
    "def var_to_np(img_var):\n",
    "    '''Converts an image in torch.Variable format to np.array.\n",
    "\n",
    "    From 1 x C x W x H [0..1] to  C x W x H [0..1]\n",
    "    '''\n",
    "    return img_var.data.cpu().numpy()[0]"
   ],
   "outputs": [],
   "execution_count": 3
  },
  {
   "cell_type": "code",
   "metadata": {
    "ExecuteTime": {
     "end_time": "2024-11-26T08:56:44.137623Z",
     "start_time": "2024-11-26T08:56:44.131840Z"
    }
   },
   "source": [
    "def betadiv(A,B,beta):\n",
    "    \"\"\"\n",
    "    beta-divergence\n",
    "    \n",
    "        d = betadiv(A,B,beta)\n",
    "    -a \\= 0,1\n",
    "     d(x|y) = ( x^a + (a-1)*y^a - a*x*y^(a-1) / (a*(a-1)) \n",
    "    -a = 1\n",
    "     d(x|y) = x(log(x) - log(y)) + (y-x) KULLBACK-LEIBLER\n",
    "    -a = 0\n",
    "     d(x|y) = x/y - log(x/y) - 1         ITAKURA-SAITO\n",
    "    \"\"\"\n",
    "    if beta == 2:\n",
    "        d = torch.sum((A-B)**2)\n",
    "    elif beta == 1:\n",
    "        eps = np.spacing(1)\n",
    "        d = torch.sum( A[A>eps] * torch.log(A[A>eps]/(B[A>eps] + eps)) - A[A>eps] + B[A>eps] ) + torch.sum(B[A<=eps])\n",
    "    elif beta == 0:\n",
    "        d = torch.sum( A/B - torch.log(A/B) ) - A.size\n",
    "    else:\n",
    "        d = torch.sum( A**beta + (beta-1)*B**beta - beta*(A * B**(beta-1)) ) / (beta*(beta-1))\n",
    "    \n",
    "    return d"
   ],
   "outputs": [
    {
     "name": "stderr",
     "output_type": "stream",
     "text": [
      "<>:2: SyntaxWarning: invalid escape sequence '\\='\n",
      "<>:2: SyntaxWarning: invalid escape sequence '\\='\n",
      "/var/folders/cc/hrn6snp15vl615cf2v8m3qtr0000gn/T/ipykernel_57538/1553605032.py:2: SyntaxWarning: invalid escape sequence '\\='\n",
      "  \"\"\"\n"
     ]
    }
   ],
   "execution_count": 4
  },
  {
   "cell_type": "code",
   "metadata": {
    "ExecuteTime": {
     "end_time": "2024-11-26T08:56:54.247385Z",
     "start_time": "2024-11-26T08:56:54.236290Z"
    }
   },
   "source": [
    "def A_NMF(V,D,W,H,beta,l_r):\n",
    "    \"\"\"\n",
    "    Perform AT-NMF\n",
    "    \n",
    "    Return the loss, RMSE on the test entries, basis and activation matrices, and adversary R. \n",
    "    \n",
    "    :param V: The original data matrix. \n",
    "    :param D: The binary mask\n",
    "    :param l_r: lambda\n",
    "    :param beta: use beta = 2\n",
    "    \"\"\"\n",
    "\n",
    "    \n",
    "    maxout = 100\n",
    "    maxin = 1000\n",
    "    cost1 = np.zeros(maxout+1) # betadiv(V, WH)\n",
    "    \n",
    "    tol = 1e-2\n",
    "    \n",
    "    # Initialize W and H to get meaningful R\n",
    "    \n",
    "    for k in range(5):\n",
    "\n",
    "        W = W * ((D*V)@H.T) / (W@(H@H.T) + eps)\n",
    "        H = H * (W.T@(D*V)) / ((W.T@W)@H + eps)\n",
    "    \n",
    "    cost1[0] =  betadiv(D*V, D*(W@H), beta)\n",
    "    print('Current iteration 0 and cost is %.3f\\n' %(cost1[0]))\n",
    "    \n",
    "      \n",
    "    # Start Adversarial Training\n",
    "    iterator = tqdm(range(maxout))\n",
    "    for k in iterator:\n",
    "        \n",
    "        # Update R\n",
    "        R = torch.max( (D*V - D*(W@H))/(l_r-1), -D*V )\n",
    "        new_V = D*(V+R)\n",
    "        \n",
    "        cost_in = np.zeros(maxin)\n",
    "        cost_in[0] = betadiv(new_V, D*(W@H),beta)\n",
    "\n",
    "        V_pre = W@H\n",
    "        \n",
    "        for i in range(1,maxin):\n",
    "            V_ap_old = W@H\n",
    "            \n",
    "            W = W * (new_V@H.T) / (W@(H@H.T) + eps)\n",
    "            H = H * (W.T@new_V) / ((W.T@W)@H + eps)\n",
    "            \n",
    "            V_ap_new = W@H\n",
    "            \n",
    "            cost_in[i] = betadiv(new_V, D*(W@H), beta)\n",
    "            \n",
    "\n",
    "            stp = (V_ap_old - V_ap_new) / V_ap_old\n",
    "            stp[stp != stp] = 0\n",
    "            if torch.norm(stp, 'fro') < tol:\n",
    "                print('Reach inner stopping criterion at out %d and in %d' %(k, i))\n",
    "                break \n",
    "        \n",
    "        cost1[k+1] = betadiv(D*V, D*(W@H), beta)\n",
    "        \n",
    "        \n",
    "        \n",
    "        V_cur = W@H\n",
    "        \n",
    "        stp1 = (V_pre - V_cur) / V_pre\n",
    "        stp1[stp1 != stp1] = 0\n",
    "        if torch.norm(stp1, 'fro') < tol:\n",
    "            print('reach outer stopping criterion %d' %(k))\n",
    "            iterator.close()\n",
    "            break\n",
    "        \n",
    "    \n",
    "    print('Current iteration %d and cost is %.3f\\n' %(k,cost1[k+1]))\n",
    "    RMSE = torch.norm((1-D)*V - (1-D)*(W@H),'fro') / np.sqrt(D[D<1].shape[0])\n",
    "    \n",
    "    return cost1, RMSE, W, H, R"
   ],
   "outputs": [],
   "execution_count": 5
  },
  {
   "cell_type": "code",
   "metadata": {
    "ExecuteTime": {
     "end_time": "2024-11-26T08:57:01.420199Z",
     "start_time": "2024-11-26T08:57:01.413707Z"
    }
   },
   "source": [
    "def NMF(V,D,W,H,beta):\n",
    "    \"\"\"\n",
    "    Perform standard NMF. \n",
    "    \n",
    "    \"\"\"\n",
    "    \n",
    "    maxout = 100000\n",
    "\n",
    "    cost = np.zeros(maxout+1)\n",
    "    \n",
    "    for k in range(5):\n",
    "        W = W * ((D*V)@H.T) / (W@(H@H.T) + eps)\n",
    "        H = H * (W.T@(D*V)) / ((W.T@W)@H + eps)\n",
    "    \n",
    "    cost[0] = betadiv(D*V, D*(W@H), beta)\n",
    "    \n",
    "    print('Current iteration 0 and cost is %.3f\\n' %(cost[0]))\n",
    "    \n",
    "    tol = 1e-2\n",
    "    \n",
    "    \n",
    "    for k in range(maxout):\n",
    "\n",
    "        V_ap_old = W@H\n",
    "        \n",
    "        W = W * ((D*V)@H.T) / (W@(H@H.T) + eps)\n",
    "        H = H * (W.T@(D*V)) / ((W.T@W)@H + eps)\n",
    "      \n",
    "        V_ap_new = W@H\n",
    "     \n",
    "        cost[k+1] = betadiv(D*V, D*(W@H), beta)\n",
    "        \n",
    "        \n",
    "        stp = (V_ap_old - V_ap_new) / V_ap_old\n",
    "        stp[stp != stp] = 0\n",
    "        if torch.norm(stp, 'fro') < tol:\n",
    "            print('Reach stopping criterion at %d' %(k))\n",
    "            break\n",
    "\n",
    "    print('Current iteration %d and cost is %.3f\\n' %(k,cost[k+1]))\n",
    "    RMSE = torch.norm((1-D)*V - (1-D)*(W@H),'fro') / np.sqrt(D[D<1].shape[0])\n",
    "\n",
    "    \n",
    "    return cost,RMSE, W,H\n",
    "\n"
   ],
   "outputs": [],
   "execution_count": 6
  },
  {
   "cell_type": "markdown",
   "metadata": {},
   "source": [
    "# Load Dataset"
   ]
  },
  {
   "cell_type": "code",
   "metadata": {
    "ExecuteTime": {
     "end_time": "2024-11-26T09:00:12.784258Z",
     "start_time": "2024-11-26T09:00:12.508423Z"
    }
   },
   "source": [
    "import scipy.io\n",
    "\n",
    "#mat = scipy.io.loadmat('./clean_Moffet.mat')\n",
    "mat = scipy.io.loadmat('./CBCL/X.mat')\n",
    "#mat = scipy.io.loadmat('./Moffet/V.mat')\n",
    "#mat = scipy.io.loadmat('./Synthetic/X.mat')"
   ],
   "outputs": [],
   "execution_count": 7
  },
  {
   "cell_type": "code",
   "metadata": {
    "ExecuteTime": {
     "end_time": "2024-11-26T09:00:14.579196Z",
     "start_time": "2024-11-26T09:00:14.574497Z"
    }
   },
   "source": [
    "sorted(mat.keys())"
   ],
   "outputs": [
    {
     "data": {
      "text/plain": [
       "['X', '__globals__', '__header__', '__version__']"
      ]
     },
     "execution_count": 8,
     "metadata": {},
     "output_type": "execute_result"
    }
   ],
   "execution_count": 8
  },
  {
   "cell_type": "code",
   "metadata": {
    "ExecuteTime": {
     "end_time": "2024-11-26T09:00:17.446121Z",
     "start_time": "2024-11-26T09:00:17.441160Z"
    }
   },
   "source": [
    "mat['X'].shape"
   ],
   "outputs": [
    {
     "data": {
      "text/plain": [
       "(2429, 361)"
      ]
     },
     "execution_count": 9,
     "metadata": {},
     "output_type": "execute_result"
    }
   ],
   "execution_count": 9
  },
  {
   "cell_type": "code",
   "metadata": {
    "ExecuteTime": {
     "end_time": "2024-11-26T09:00:19.982076Z",
     "start_time": "2024-11-26T09:00:19.976172Z"
    }
   },
   "source": [
    "dataset = mat['X'].T\n",
    "dataset.shape"
   ],
   "outputs": [
    {
     "data": {
      "text/plain": [
       "(361, 2429)"
      ]
     },
     "execution_count": 10,
     "metadata": {},
     "output_type": "execute_result"
    }
   ],
   "execution_count": 10
  },
  {
   "cell_type": "code",
   "metadata": {
    "ExecuteTime": {
     "end_time": "2024-11-26T09:00:27.015783Z",
     "start_time": "2024-11-26T09:00:27.010014Z"
    }
   },
   "source": [
    "# Synnthetic data\n",
    "\n",
    "# Generate lambda_k using Inverse-Gamma priors\n",
    "'''\n",
    "\n",
    "from scipy.stats import invgamma\n",
    "a = 50\n",
    "b = 70\n",
    "\n",
    "K = 5\n",
    "F = 100\n",
    "N = 50\n",
    "\n",
    "lambda_k = np.array(b*invgamma.rvs(a, size = 5))\n",
    "\n",
    "# Generate W and H using Half-Normal priors\n",
    "W_prior = np.zeros((F,K))\n",
    "H_prior = np.zeros((K,N))\n",
    "for i in range(K):\n",
    "    W_col = abs(np.random.normal(0, lambda_k[i], F))\n",
    "    H_row = abs(np.random.normal(0, lambda_k[i], N))\n",
    "    \n",
    "    W_prior[:,i] = W_col\n",
    "    H_prior[i,:] = H_row\n",
    "    \n",
    "dataset = W_prior @ H_prior\n",
    "'''\n"
   ],
   "outputs": [
    {
     "data": {
      "text/plain": [
       "'\\n\\nfrom scipy.stats import invgamma\\na = 50\\nb = 70\\n\\nK = 5\\nF = 100\\nN = 50\\n\\nlambda_k = np.array(b*invgamma.rvs(a, size = 5))\\n\\n# Generate W and H using Half-Normal priors\\nW_prior = np.zeros((F,K))\\nH_prior = np.zeros((K,N))\\nfor i in range(K):\\n    W_col = abs(np.random.normal(0, lambda_k[i], F))\\n    H_row = abs(np.random.normal(0, lambda_k[i], N))\\n    \\n    W_prior[:,i] = W_col\\n    H_prior[i,:] = H_row\\n    \\ndataset = W_prior @ H_prior\\n'"
      ]
     },
     "execution_count": 11,
     "metadata": {},
     "output_type": "execute_result"
    }
   ],
   "execution_count": 11
  },
  {
   "cell_type": "code",
   "metadata": {
    "ExecuteTime": {
     "end_time": "2024-11-26T09:00:30.366566Z",
     "start_time": "2024-11-26T09:00:30.363078Z"
    }
   },
   "source": [
    "[F,N] = dataset.shape\n",
    "K = 49\n",
    "beta = 2"
   ],
   "outputs": [],
   "execution_count": 12
  },
  {
   "cell_type": "markdown",
   "metadata": {},
   "source": [
    "# Send to GPU"
   ]
  },
  {
   "cell_type": "code",
   "metadata": {
    "ExecuteTime": {
     "end_time": "2024-11-26T09:00:33.578943Z",
     "start_time": "2024-11-26T09:00:33.097461Z"
    }
   },
   "source": [
    "V = np_to_var(dataset)[0].type(dtype)\n",
    "V.shape"
   ],
   "outputs": [
    {
     "ename": "RuntimeError",
     "evalue": "Cannot initialize CUDA without ATen_cuda library. PyTorch splits its backend into two shared libraries: a CPU library and a CUDA library; this error has occurred because you are trying to use some CUDA functionality, but the CUDA library has not been loaded by the dynamic linker for some reason.  The CUDA library MUST be loaded, EVEN IF you don't directly use any symbols from the CUDA library! One common culprit is a lack of -Wl,--no-as-needed in your link arguments; many dynamic linkers will delete dynamic library dependencies if you don't depend on any of their symbols.  You can check if this has occurred by using ldd on your binary to see if there is a dependency on *_cuda.so library.",
     "output_type": "error",
     "traceback": [
      "\u001B[0;31m---------------------------------------------------------------------------\u001B[0m",
      "\u001B[0;31mRuntimeError\u001B[0m                              Traceback (most recent call last)",
      "Cell \u001B[0;32mIn[13], line 1\u001B[0m\n\u001B[0;32m----> 1\u001B[0m V \u001B[38;5;241m=\u001B[39m \u001B[43mnp_to_var\u001B[49m\u001B[43m(\u001B[49m\u001B[43mdataset\u001B[49m\u001B[43m)\u001B[49m\u001B[43m[\u001B[49m\u001B[38;5;241;43m0\u001B[39;49m\u001B[43m]\u001B[49m\u001B[38;5;241;43m.\u001B[39;49m\u001B[43mtype\u001B[49m\u001B[43m(\u001B[49m\u001B[43mdtype\u001B[49m\u001B[43m)\u001B[49m\n\u001B[1;32m      2\u001B[0m V\u001B[38;5;241m.\u001B[39mshape\n",
      "\u001B[0;31mRuntimeError\u001B[0m: Cannot initialize CUDA without ATen_cuda library. PyTorch splits its backend into two shared libraries: a CPU library and a CUDA library; this error has occurred because you are trying to use some CUDA functionality, but the CUDA library has not been loaded by the dynamic linker for some reason.  The CUDA library MUST be loaded, EVEN IF you don't directly use any symbols from the CUDA library! One common culprit is a lack of -Wl,--no-as-needed in your link arguments; many dynamic linkers will delete dynamic library dependencies if you don't depend on any of their symbols.  You can check if this has occurred by using ldd on your binary to see if there is a dependency on *_cuda.so library."
     ]
    }
   ],
   "execution_count": 13
  },
  {
   "cell_type": "code",
   "execution_count": 41,
   "metadata": {},
   "outputs": [
    {
     "name": "stdout",
     "output_type": "stream",
     "text": [
      "Now is mask 0\n",
      "===========================================\n",
      "NMF current training size is 70 % and initialization number is 0\n",
      "\n",
      "Current iteration 0 and cost is 22290.773\n",
      "\n",
      "Current iteration 99999 and cost is 9729.213\n",
      "\n",
      "AT-NMF current training size is 70 % and initialization number is 0\n",
      "\n",
      "Current iteration 0 and cost is 22290.773\n",
      "\n"
     ]
    },
    {
     "data": {
      "application/vnd.jupyter.widget-view+json": {
       "model_id": "f81d01f0356f4e859284e1152d572112",
       "version_major": 2,
       "version_minor": 0
      },
      "text/plain": [
       "  0%|          | 0/100 [00:00<?, ?it/s]"
      ]
     },
     "metadata": {},
     "output_type": "display_data"
    },
    {
     "name": "stdout",
     "output_type": "stream",
     "text": [
      "Current iteration 99 and cost is 15116.484\n",
      "\n"
     ]
    }
   ],
   "source": [
    "# set random seed to be 1\n",
    "np.random.seed(seed=1)\n",
    "\n",
    "# We have generated 7 binary mask for training, corresponding with alpha = 0.3,..,0.9 with 0.1 step size\n",
    "# mask1 is alpha = 0.3, which is to remove 30% and use the remaining 70% for training.\n",
    "# mask2 is alpha = 0.4\n",
    "# ...\n",
    "# mask7 is alpha = 0.9\n",
    "for d in range(7):\n",
    "    print('Now is mask %d' %(d))\n",
    "    print(\"===========================================\")\n",
    "    D_ls = scipy.io.loadmat('./CBCL/mask'+str(d+1)+'.mat')['mask'].T\n",
    "    D_ls = np_to_var(D_ls)[0].type(dtype)\n",
    "    \n",
    "    nmf_rmse = np.zeros((1,10))\n",
    "    nmf_cost = np.zeros((10,100000+1))\n",
    "\n",
    "    anmf_rmse1 = np.zeros((1,10))\n",
    "    anmf_cost1 = np.zeros((10,100+1))\n",
    "\n",
    "    # We use 10 different initializations for each experiment\n",
    "    for it in range(10):\n",
    "        W_ls = abs(np.random.normal(0,1, size = (F,K)))\n",
    "        W_ls = np_to_var(W_ls)[0].type(dtype)\n",
    "\n",
    "        H_ls = abs(np.random.normal(0,1,size = (K,N)))\n",
    "        H_ls = np_to_var(H_ls)[0].type(dtype)\n",
    "\n",
    "        # For standard NMF\n",
    "        print('NMF current training size is %d %% and initialization number is %d\\n' %(70-10*d,it))\n",
    "        nmf_cost[it,:], nmf_rmse[0,it], W_nmf, H_nmf = NMF(V,D_ls,W_ls,H_ls,beta)\n",
    "        '''\n",
    "        plt.plot(nmf_cost[it,0:])\n",
    "        plt.xlabel('Iteration')\n",
    "        plt.ylabel('Loss')\n",
    "        plt.title('NMF cost') \n",
    "        plt.show()\n",
    "        '''\n",
    "        \n",
    "\n",
    "        # For AT-NMF\n",
    "\n",
    "        l_r = 2 #l_r is lambda, choose lambda > 1\n",
    "        print('AT-NMF current training size is %d %% and initialization number is %d\\n' %(70-10*d,it))\n",
    "        anmf_cost1[it,:], anmf_rmse1[0,it], W_at_1, H_at_1, R_1 = A_NMF(V,D_ls,W_ls,H_ls,beta,l_r)\n",
    "        '''\n",
    "        plt.plot(anmf_cost1[it,0:])\n",
    "        plt.xlabel('Iteration')\n",
    "        plt.ylabel('Loss')\n",
    "        plt.title('Outer Beta Divergence V+R Loss lambda=2') \n",
    "        plt.show()\n",
    "        \n",
    "        '''"
   ]
  },
  {
   "cell_type": "code",
   "execution_count": null,
   "metadata": {},
   "outputs": [],
   "source": []
  },
  {
   "cell_type": "code",
   "execution_count": 42,
   "metadata": {},
   "outputs": [
    {
     "data": {
      "image/png": "[encoded data removed]",
      "text/plain": [
       "<Figure size 648x324 with 1 Axes>"
      ]
     },
     "metadata": {
      "needs_background": "light"
     },
     "output_type": "display_data"
    }
   ],
   "source": [
    "# Loss plot of NMF \n",
    "import matplotlib\n",
    "from matplotlib import rc\n",
    "import matplotlib.pyplot as plt\n",
    "\n",
    "plt.figure(1, figsize=[9,4.5])\n",
    "plt.rcParams.update({'font.size': 16})\n",
    "\n",
    "plt.plot(nmf_cost[0,0:1000], linewidth=3) # show only the firt 1000 iteration to see the details\n",
    "\n",
    "plt.xlabel('Iteration', fontsize = 40)\n",
    "plt.ylabel('Loss', fontsize = 40)\n",
    "\n",
    "plt.ticklabel_format(style='sci', axis='y', scilimits=(0,0))\n",
    "\n",
    "plt.rc('xtick', labelsize=25)    # fontsize of the tick labels\n",
    "plt.rc('ytick', labelsize=30) \n",
    "\n",
    "plt.title('NMF', fontsize = 40)\n",
    "#plt.legend(fontsize = 30)\n",
    "plt.grid(True)\n",
    "#plt.savefig('NMF_loss.eps', bbox_inches = 'tight')\n",
    "plt.show()"
   ]
  },
  {
   "cell_type": "code",
   "execution_count": 47,
   "metadata": {},
   "outputs": [
    {
     "name": "stderr",
     "output_type": "stream",
     "text": [
      "The PostScript backend does not support transparency; partially transparent artists will be rendered opaque.\n",
      "The PostScript backend does not support transparency; partially transparent artists will be rendered opaque.\n"
     ]
    },
    {
     "data": {
      "image/png": "[encoded data removed]",
      "text/plain": [
       "<Figure size 648x324 with 1 Axes>"
      ]
     },
     "metadata": {
      "needs_background": "light"
     },
     "output_type": "display_data"
    }
   ],
   "source": [
    "'''\n",
    "# Plot the loss plot of AT-NMF when lambda = 2 and 5\n",
    "import matplotlib\n",
    "from matplotlib import rc\n",
    "import matplotlib.pyplot as plt\n",
    "#x = np.array([1.1,1.2,1.3,1.4,1.5,1.6,1.7,1.8,1.9,2,3,4,5,6,7,8,9,10])\n",
    "plt.figure(1, figsize=[9,4.5])\n",
    "plt.rcParams.update({'font.size': 16})\n",
    "\n",
    "plt.plot(anmf_cost1[0,0:], linewidth=3, label=r'$\\lambda = 2$')\n",
    "plt.plot(anmf_cost4[0,0:],'--', linewidth=3, label=r'$\\lambda = 5$')\n",
    "plt.xlabel('Outer Iteration', fontsize = 40)\n",
    "plt.ylabel('Loss', fontsize = 40)\n",
    "\n",
    "plt.ticklabel_format(style='sci', axis='y', scilimits=(0,0))\n",
    "\n",
    "plt.rc('xtick', labelsize=40)    # fontsize of the tick labels\n",
    "plt.rc('ytick', labelsize=30) \n",
    "\n",
    "plt.title('AT-NMF', fontsize = 40)\n",
    "plt.legend(fontsize = 30)\n",
    "plt.grid(True)\n",
    "#savefig('tex_demo')\n",
    "plt.savefig('AT-NMF_loss.eps', bbox_inches = 'tight')\n",
    "plt.show()\n",
    "'''"
   ]
  },
  {
   "cell_type": "code",
   "execution_count": 43,
   "metadata": {},
   "outputs": [
    {
     "data": {
      "image/png": "[encoded data removed]",
      "text/plain": [
       "<Figure size 432x288 with 1 Axes>"
      ]
     },
     "metadata": {},
     "output_type": "display_data"
    }
   ],
   "source": [
    "# Show the first image in CBCL dataset\n",
    "plt.imshow( V[:,0].reshape((19,19)).cpu().numpy(), cmap='gray', vmin = 0, vmax = 1) # 0: black, 1: white\n",
    "\n",
    "plt.yticks([])\n",
    "plt.xticks([])\n",
    "\n",
    "plt.show()"
   ]
  },
  {
   "cell_type": "code",
   "execution_count": 44,
   "metadata": {},
   "outputs": [
    {
     "data": {
      "text/plain": [
       "<matplotlib.image.AxesImage at 0x7f0e207e1fd0>"
      ]
     },
     "execution_count": 44,
     "metadata": {},
     "output_type": "execute_result"
    },
    {
     "data": {
      "image/png": "[encoded data removed]",
      "text/plain": [
       "<Figure size 432x288 with 1 Axes>"
      ]
     },
     "metadata": {},
     "output_type": "display_data"
    }
   ],
   "source": [
    "# Show the masked training image V, missing pixels in red\n",
    "im = (D_ls *(V))[:,0].reshape((19,19)).cpu().numpy()\n",
    "temp = D_ls[:,0].reshape((19,19)).cpu().numpy()\n",
    "allzeros = np.transpose(np.where(temp ==0))\n",
    "I = np.dstack([im, im, im])\n",
    "for i in allzeros:\n",
    "    I[i[0],i[1],:] = [1, 0, 0]\n",
    "plt.yticks([])\n",
    "plt.xticks([])\n",
    "plt.imshow(I, interpolation='nearest', cmap = 'gray',vmin = 0, vmax = 1 )  \n",
    "    "
   ]
  },
  {
   "cell_type": "code",
   "execution_count": 45,
   "metadata": {},
   "outputs": [
    {
     "name": "stderr",
     "output_type": "stream",
     "text": [
      "Clipping input data to the valid range for imshow with RGB data ([0..1] for floats or [0..255] for integers).\n"
     ]
    },
    {
     "data": {
      "text/plain": [
       "<matplotlib.image.AxesImage at 0x7f0e2079b760>"
      ]
     },
     "execution_count": 45,
     "metadata": {},
     "output_type": "execute_result"
    },
    {
     "data": {
      "image/png": "[encoded data removed]",
      "text/plain": [
       "<Figure size 432x288 with 1 Axes>"
      ]
     },
     "metadata": {},
     "output_type": "display_data"
    }
   ],
   "source": [
    "# Show the adversary adds-on image R*\n",
    "im = (D_ls *(R_1))[:,0].reshape((19,19)).cpu().numpy()\n",
    "temp = D_ls[:,0].reshape((19,19)).cpu().numpy()\n",
    "allzeros = np.transpose(np.where(temp ==0))\n",
    "I = np.dstack([im, im, im])\n",
    "for i in allzeros:\n",
    "    I[i[0],i[1],:] = [1, 0, 0]\n",
    "plt.yticks([])\n",
    "plt.xticks([])\n",
    "plt.imshow(I, interpolation='nearest', cmap = 'gray',vmin = 0, vmax = 1 )"
   ]
  },
  {
   "cell_type": "code",
   "execution_count": 46,
   "metadata": {},
   "outputs": [
    {
     "name": "stderr",
     "output_type": "stream",
     "text": [
      "Clipping input data to the valid range for imshow with RGB data ([0..1] for floats or [0..255] for integers).\n"
     ]
    },
    {
     "data": {
      "text/plain": [
       "<matplotlib.image.AxesImage at 0x7f0e20752f40>"
      ]
     },
     "execution_count": 46,
     "metadata": {},
     "output_type": "execute_result"
    },
    {
     "data": {
      "image/png": "[encoded data removed]",
      "text/plain": [
       "<Figure size 432x288 with 1 Axes>"
      ]
     },
     "metadata": {},
     "output_type": "display_data"
    }
   ],
   "source": [
    "# Show the adversarially trained masked image V+R*\n",
    "im = (D_ls *(V+R_1))[:,0].reshape((19,19)).cpu().numpy()\n",
    "temp = D_ls[:,0].reshape((19,19)).cpu().numpy()\n",
    "allzeros = np.transpose(np.where(temp ==0))\n",
    "I = np.dstack([im, im, im])\n",
    "for i in allzeros:\n",
    "    I[i[0],i[1],:] = [1, 0, 0]\n",
    "plt.yticks([])\n",
    "plt.xticks([])\n",
    "plt.imshow(I, interpolation='nearest', cmap = 'gray',vmin = 0, vmax = 1 )"
   ]
  },
  {
   "cell_type": "code",
   "execution_count": 47,
   "metadata": {},
   "outputs": [
    {
     "data": {
      "image/png": "[encoded data removed]",
      "text/plain": [
       "<Figure size 432x288 with 1 Axes>"
      ]
     },
     "metadata": {},
     "output_type": "display_data"
    }
   ],
   "source": [
    "# Show the restore image by AT-NMF\n",
    "plt.imshow((D_ls * V + (1-D_ls)*(W_at_1 @ H_at_1))[:,0].reshape((19,19)).cpu().numpy(), cmap='gray', vmin = 0, vmax = 1) # 0: black, 1: white\n",
    "#plt.ylabel(r'V+R $(\\lambda = 5)$')\n",
    "#plt.gca().axes.get_yaxis().set_visible(False)\n",
    "plt.yticks([])\n",
    "plt.xticks([])\n",
    "plt.show()"
   ]
  },
  {
   "cell_type": "markdown",
   "metadata": {},
   "source": [
    "# Check the Basis"
   ]
  },
  {
   "cell_type": "code",
   "execution_count": 48,
   "metadata": {},
   "outputs": [
    {
     "data": {
      "text/plain": [
       "<matplotlib.image.AxesImage at 0x7f0e206d1b80>"
      ]
     },
     "execution_count": 48,
     "metadata": {},
     "output_type": "execute_result"
    },
    {
     "data": {
      "image/png": "[encoded data removed]",
      "text/plain": [
       "<Figure size 432x288 with 1 Axes>"
      ]
     },
     "metadata": {},
     "output_type": "display_data"
    }
   ],
   "source": [
    "# Basis image trained by standard NMF\n",
    "set_cmap('gray')\n",
    "blank = new(\"L\", (133 + 6, 133 + 6))\n",
    "for i in range(7):\n",
    "    for j in range(7):\n",
    "        basis = W_nmf.cpu().numpy()[:,7*i+j].reshape((19,19))\n",
    "        basis = basis / (np.max(basis)-np.min(basis)) * 255\n",
    "        basis = 255 - basis\n",
    "        ima = fromarray(basis)\n",
    "        ima = ima.rotate(270)\n",
    "        expand(ima, border=1, fill='black')\n",
    "        blank.paste(ima.copy(), (j * 19 + j, i * 19 + i))\n",
    "plt.title('NMF', fontsize = '30')\n",
    "plt.yticks([])\n",
    "plt.xticks([])\n",
    "#plt.savefig('nmf_restored.eps', bbox_inches = 'tight')\n",
    "\n",
    "imshow(blank)"
   ]
  },
  {
   "cell_type": "code",
   "execution_count": 49,
   "metadata": {},
   "outputs": [
    {
     "data": {
      "text/plain": [
       "<matplotlib.image.AxesImage at 0x7f0e20696400>"
      ]
     },
     "execution_count": 49,
     "metadata": {},
     "output_type": "execute_result"
    },
    {
     "data": {
      "image/png": "[encoded data removed]",
      "text/plain": [
       "<Figure size 432x288 with 1 Axes>"
      ]
     },
     "metadata": {},
     "output_type": "display_data"
    }
   ],
   "source": [
    "# Basis image trained by AT-NMF (lambda = 2)\n",
    "set_cmap('gray')\n",
    "blank = new(\"L\", (133 + 6, 133 + 6))\n",
    "for i in range(7):\n",
    "    for j in range(7):\n",
    "        basis = W_at_1.cpu().numpy()[:,7*i+j].reshape((19,19))\n",
    "        basis = basis / (np.max(basis)-np.min(basis)) * 255\n",
    "        basis = 255 - basis\n",
    "        ima = fromarray(basis)\n",
    "        ima = ima.rotate(270)\n",
    "        expand(ima, border=1, fill='black')\n",
    "        blank.paste(ima.copy(), (j * 19 + j, i * 19 + i))\n",
    "plt.title(r'AT-NMF $\\lambda = 2$', fontsize = '30')\n",
    "plt.yticks([])\n",
    "plt.xticks([])\n",
    "\n",
    "imshow(blank)"
   ]
  },
  {
   "cell_type": "code",
   "execution_count": null,
   "metadata": {},
   "outputs": [],
   "source": []
  },
  {
   "cell_type": "code",
   "execution_count": null,
   "metadata": {},
   "outputs": [],
   "source": []
  }
 ],
 "metadata": {
  "kernelspec": {
   "display_name": "Python 3",
   "language": "python",
   "name": "python3"
  },
  "language_info": {
   "codemirror_mode": {
    "name": "ipython",
    "version": 3
   },
   "file_extension": ".py",
   "mimetype": "text/x-python",
   "name": "python",
   "nbconvert_exporter": "python",
   "pygments_lexer": "ipython3",
   "version": "3.8.5"
  }
 },
 "nbformat": 4,
 "nbformat_minor": 4
}
