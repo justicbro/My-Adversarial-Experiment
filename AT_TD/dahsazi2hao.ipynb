{
 "cells": [
  {
   "cell_type": "code",
   "execution_count": 6,
   "metadata": {},
   "outputs": [
    {
     "ename": "SyntaxError",
     "evalue": "invalid syntax (3825071719.py, line 1)",
     "output_type": "error",
     "traceback": [
      "\u001b[0;36m  Cell \u001b[0;32mIn[6], line 1\u001b[0;36m\u001b[0m\n\u001b[0;31m    pip install pandas\u001b[0m\n\u001b[0m        ^\u001b[0m\n\u001b[0;31mSyntaxError\u001b[0m\u001b[0;31m:\u001b[0m invalid syntax\n"
     ]
    }
   ],
   "source": [
    "pip install pandas"
   ]
  },
  {
   "cell_type": "code",
   "execution_count": 7,
   "metadata": {},
   "outputs": [
    {
     "name": "stdout",
     "output_type": "stream",
     "text": [
      "Collecting tabulate\n",
      "  Using cached tabulate-0.9.0-py3-none-any.whl.metadata (34 kB)\n",
      "Using cached tabulate-0.9.0-py3-none-any.whl (35 kB)\n",
      "Installing collected packages: tabulate\n",
      "Successfully installed tabulate-0.9.0\n",
      "Note: you may need to restart the kernel to use updated packages.\n"
     ]
    }
   ],
   "source": [
    "pip install tabulate"
   ]
  },
  {
   "cell_type": "code",
   "execution_count": 8,
   "metadata": {},
   "outputs": [
    {
     "name": "stdout",
     "output_type": "stream",
     "text": [
      "| 2020 Diagnosis                     | Target   |\n",
      "|:-----------------------------------|:---------|\n",
      "| nevus                              | NV       |\n",
      "| melanoma                           | MEL      |\n",
      "| seborrheic keratosis               | BKL      |\n",
      "| lichenoid keratosis                | BKL      |\n",
      "| solar lentigo                      | BKL      |\n",
      "| lentigo NOS                        | BKL      |\n",
      "| cafe-au-lait macule                | Unknown  |\n",
      "| atypical melanocytic proliferation | Unknown  |\n"
     ]
    }
   ],
   "source": [
    "import pandas as pd\n",
    "\n",
    "# Data for the table\n",
    "data = {\n",
    "    \"2020 Diagnosis\": [\n",
    "        \"nevus\",\n",
    "        \"melanoma\",\n",
    "        \"seborrheic keratosis\",\n",
    "        \"lichenoid keratosis\",\n",
    "        \"solar lentigo\",\n",
    "        \"lentigo NOS\",\n",
    "        \"cafe-au-lait macule\",\n",
    "        \"atypical melanocytic proliferation\",\n",
    "    ],\n",
    "    \"Target\": [\"NV\", \"MEL\", \"BKL\", \"BKL\", \"BKL\", \"BKL\", \"Unknown\", \"Unknown\"],\n",
    "}\n",
    "\n",
    "# Create DataFrame\n",
    "df = pd.DataFrame(data)\n",
    "\n",
    "# Display the table\n",
    "print(df.to_markdown(index=False))"
   ]
  }
 ],
 "metadata": {
  "kernelspec": {
   "display_name": "Python 3 (ipykernel)",
   "language": "python",
   "name": "python3"
  },
  "language_info": {
   "codemirror_mode": {
    "name": "ipython",
    "version": 3
   },
   "file_extension": ".py",
   "mimetype": "text/x-python",
   "name": "python",
   "nbconvert_exporter": "python",
   "pygments_lexer": "ipython3",
   "version": "3.13.1"
  }
 },
 "nbformat": 4,
 "nbformat_minor": 4
}
