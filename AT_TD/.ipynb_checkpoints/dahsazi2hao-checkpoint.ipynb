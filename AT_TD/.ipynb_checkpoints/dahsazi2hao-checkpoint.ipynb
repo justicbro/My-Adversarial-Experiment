{
 "cells": [
  {
   "cell_type": "code",
   "execution_count": 5,
   "metadata": {},
   "outputs": [
    {
     "name": "stdout",
     "output_type": "stream",
     "text": [
      "| 2020 Diagnosis                     | Target   |\n",
      "|:-----------------------------------|:---------|\n",
      "| nevus                              | NV       |\n",
      "| melanoma                           | MEL      |\n",
      "| seborrheic keratosis               | BKL      |\n",
      "| lichenoid keratosis                | BKL      |\n",
      "| solar lentigo                      | BKL      |\n",
      "| lentigo NOS                        | BKL      |\n",
      "| cafe-au-lait macule                | Unknown  |\n",
      "| atypical melanocytic proliferation | Unknown  |\n"
     ]
    }
   ],
   "source": [
    "import pandas as pd\n",
    "\n",
    "# Data for the table\n",
    "data = {\n",
    "    \"2020 Diagnosis\": [\n",
    "        \"nevus\",\n",
    "        \"melanoma\",\n",
    "        \"seborrheic keratosis\",\n",
    "        \"lichenoid keratosis\",\n",
    "        \"solar lentigo\",\n",
    "        \"lentigo NOS\",\n",
    "        \"cafe-au-lait macule\",\n",
    "        \"atypical melanocytic proliferation\",\n",
    "    ],\n",
    "    \"Target\": [\"NV\", \"MEL\", \"BKL\", \"BKL\", \"BKL\", \"BKL\", \"Unknown\", \"Unknown\"],\n",
    "}\n",
    "\n",
    "# Create DataFrame\n",
    "df = pd.DataFrame(data)\n",
    "\n",
    "# Display the table\n",
    "print(df.to_markdown(index=False))"
   ]
  }
 ],
 "metadata": {
  "kernelspec": {
   "display_name": "myenv",
   "language": "python",
   "name": "python3"
  },
  "language_info": {
   "codemirror_mode": {
    "name": "ipython",
    "version": 3
   },
   "file_extension": ".py",
   "mimetype": "text/x-python",
   "name": "python",
   "nbconvert_exporter": "python",
   "pygments_lexer": "ipython3",
   "version": "3.8.10"
  }
 },
 "nbformat": 4,
 "nbformat_minor": 2
}
